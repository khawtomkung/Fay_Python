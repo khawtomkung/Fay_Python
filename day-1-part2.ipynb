{
 "cells": [
  {
   "cell_type": "code",
   "execution_count": null,
   "id": "a21e3828",
   "metadata": {},
   "outputs": [
    {
     "name": "stdout",
     "output_type": "stream",
     "text": [
      "Yo!\n"
     ]
    }
   ],
   "source": [
    "print(\"Yo!\")"
   ]
  },
  {
   "cell_type": "code",
   "execution_count": null,
   "id": "dfb6d8da",
   "metadata": {},
   "outputs": [
    {
     "name": "stdout",
     "output_type": "stream",
     "text": [
      "<class 'int'>\n",
      "False\n"
     ]
    }
   ],
   "source": [
    "print(type(-0))\n",
    "print(isinstance(-0, str))"
   ]
  },
  {
   "cell_type": "code",
   "execution_count": null,
   "id": "ae77b920",
   "metadata": {},
   "outputs": [],
   "source": [
    "x = 1\n",
    "s = \"Hello\"\n",
    "\n",
    "age = 22\n",
    "name = \"fay\"\n",
    "\n",
    "print(name)"
   ]
  },
  {
   "cell_type": "code",
   "execution_count": null,
   "id": "66e1c502",
   "metadata": {},
   "outputs": [],
   "source": [
    "# sanke_case (Py1)\n",
    "founded_year_utcc_admission_department = 1980\n",
    "\n",
    "# camelCase\n",
    "foundedYearUtccAdmissionDepartment = 1980\n",
    "\n",
    "# PascalCase\n",
    "FoundedYearUtccAdmissionDepartment = 1980"
   ]
  }
 ],
 "metadata": {
  "kernelspec": {
   "display_name": "Python 3",
   "language": "python",
   "name": "python3"
  },
  "language_info": {
   "codemirror_mode": {
    "name": "ipython",
    "version": 3
   },
   "file_extension": ".py",
   "mimetype": "text/x-python",
   "name": "python",
   "nbconvert_exporter": "python",
   "pygments_lexer": "ipython3",
   "version": "3.13.7"
  }
 },
 "nbformat": 4,
 "nbformat_minor": 5
}
