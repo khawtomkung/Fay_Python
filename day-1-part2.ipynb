{
 "cells": [
  {
   "cell_type": "code",
   "execution_count": null,
   "id": "a21e3828",
   "metadata": {},
   "outputs": [
    {
     "name": "stdout",
     "output_type": "stream",
     "text": [
      "Yo!\n"
     ]
    }
   ],
   "source": [
    "print(\"Yo!\")"
   ]
  },
  {
   "cell_type": "code",
   "execution_count": null,
   "id": "dfb6d8da",
   "metadata": {},
   "outputs": [
    {
     "name": "stdout",
     "output_type": "stream",
     "text": [
      "<class 'int'>\n",
      "False\n"
     ]
    }
   ],
   "source": [
    "print(type(-0))\n",
    "print(isinstance(-0, str))"
   ]
  },
  {
   "cell_type": "code",
   "execution_count": null,
   "id": "ae77b920",
   "metadata": {},
   "outputs": [],
   "source": [
    "x = 1\n",
    "s = \"Hello\"\n",
    "\n",
    "age = 22\n",
    "name = \"fay\"\n",
    "\n",
    "print(name)"
   ]
  },
  {
   "cell_type": "code",
   "execution_count": null,
   "id": "66e1c502",
   "metadata": {},
   "outputs": [],
   "source": [
    "# sanke_case (Py1)\n",
    "founded_year_utcc_admission_department = 1980\n",
    "\n",
    "# camelCase\n",
    "foundedYearUtccAdmissionDepartment = 1980\n",
    "\n",
    "# PascalCase\n",
    "FoundedYearUtccAdmissionDepartment = 1980"
   ]
  },
  {
   "cell_type": "code",
   "execution_count": null,
   "id": "6b0fc462",
   "metadata": {},
   "outputs": [],
   "source": [
    "name = \"\"\n",
    "\n",
    "# reserved variable (should not use)\n",
    "# False\n",
    "# int\n",
    "# and\n",
    "# or\n",
    "# if\n",
    "# break\n",
    "# class\n",
    "# del\n",
    "# else\n",
    "# and more"
   ]
  },
  {
   "cell_type": "markdown",
   "id": "f1337ec2",
   "metadata": {},
   "source": [
    "***PEP8***\n",
    "Each line should contain only 60-79 characters, 66 is ideal\n",
    "\n",
    "snake_case -> lowercase words separated by underscores.\n",
    "\n",
    "x = 4 (not x=4)"
   ]
  },
  {
   "cell_type": "code",
   "execution_count": 2,
   "id": "32543f95",
   "metadata": {},
   "outputs": [
    {
     "name": "stdout",
     "output_type": "stream",
     "text": [
      "asdasdasdasdasdasdasdasdasdasdasdasdasdasdasdasdasdasdasdasdasdasdasdasdasdasdasd\n"
     ]
    }
   ],
   "source": [
    "print(\"\"\"asdasdasdasdasdasdasdasdasd\\\n",
    "asdasdasdasdasdasdasdasdasd\\\n",
    "asdasdasdasdasdasdasdasdasd\\\n",
    "\"\"\")"
   ]
  },
  {
   "cell_type": "markdown",
   "id": "a17bce0e",
   "metadata": {},
   "source": [
    "Day2"
   ]
  },
  {
   "cell_type": "code",
   "execution_count": null,
   "id": "d0657bab",
   "metadata": {},
   "outputs": [],
   "source": [
    "# bool()\n",
    "a = bool(-3)\n",
    "a = bool(0)\n",
    "a = bool(1)\n",
    "a = bool(0.0)"
   ]
  },
  {
   "cell_type": "code",
   "execution_count": 3,
   "id": "26e6db43",
   "metadata": {},
   "outputs": [
    {
     "name": "stdout",
     "output_type": "stream",
     "text": [
      "0 <class 'str'>\n"
     ]
    }
   ],
   "source": [
    "# str()\n",
    "a = str(None)\n",
    "a = str(True)\n",
    "a = str(False)\n",
    "a = str(0)\n",
    "\n",
    "print(a, type(a))"
   ]
  },
  {
   "cell_type": "code",
   "execution_count": null,
   "id": "23cc894a",
   "metadata": {},
   "outputs": [
    {
     "name": "stdout",
     "output_type": "stream",
     "text": [
      "True\n"
     ]
    }
   ],
   "source": [
    "a = bool(str(float(-2))) # -2.0\n",
    "\n",
    "print(a, type(a))"
   ]
  },
  {
   "cell_type": "code",
   "execution_count": null,
   "id": "62538247",
   "metadata": {},
   "outputs": [],
   "source": [
    "a = 5\n",
    "b = True\n",
    "# dynamic-typed programing language"
   ]
  },
  {
   "cell_type": "code",
   "execution_count": null,
   "id": "72f3cd73",
   "metadata": {},
   "outputs": [],
   "source": [
    "d = 6 * 4 # asterisk\n",
    "\n",
    "print(round(3.1415925358, 3)) #3.142"
   ]
  },
  {
   "cell_type": "markdown",
   "id": "631de7d6",
   "metadata": {},
   "source": [
    "classroom\n",
    "\n",
    "ึ7/3\n",
    "0.1 + 0.2\n",
    "why this = 2.3333333333335\n",
    "pyhon jaya c"
   ]
  }
 ],
 "metadata": {
  "kernelspec": {
   "display_name": "Python 3",
   "language": "python",
   "name": "python3"
  },
  "language_info": {
   "codemirror_mode": {
    "name": "ipython",
    "version": 3
   },
   "file_extension": ".py",
   "mimetype": "text/x-python",
   "name": "python",
   "nbconvert_exporter": "python",
   "pygments_lexer": "ipython3",
   "version": "3.13.7"
  }
 },
 "nbformat": 4,
 "nbformat_minor": 5
}
