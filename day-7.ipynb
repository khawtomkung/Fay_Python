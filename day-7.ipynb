{
 "cells": [
  {
   "cell_type": "markdown",
   "id": "896bb0fa",
   "metadata": {},
   "source": [
    "# Day 7"
   ]
  },
  {
   "cell_type": "code",
   "execution_count": 98,
   "id": "ca71f823",
   "metadata": {},
   "outputs": [],
   "source": [
    "empty_string = \"\"\n",
    "empty_string = ''\n",
    "empty_string = str()\n",
    "empty_string = \"\"\"\"\"\"\n",
    "\n",
    "empty_string\n",
    "name = \"fay\""
   ]
  },
  {
   "cell_type": "code",
   "execution_count": 99,
   "id": "35f1ccac",
   "metadata": {},
   "outputs": [
    {
     "data": {
      "text/plain": [
       "'fay'"
      ]
     },
     "execution_count": 99,
     "metadata": {},
     "output_type": "execute_result"
    }
   ],
   "source": [
    "\n",
    "# sentence = 'I'm a boy'\n",
    "sentence = \"I'm a boy\"\n",
    "sentence = \"I\\'m a boy\"\n",
    "\n",
    "sentence\n",
    "\n",
    "quote = \"She said that \\\"I\\'m a boy\\\"\"\n",
    "quote\n",
    "name"
   ]
  },
  {
   "cell_type": "markdown",
   "id": "fbd08628",
   "metadata": {},
   "source": [
    "Concatenation"
   ]
  },
  {
   "cell_type": "code",
   "execution_count": 19,
   "id": "bee0cc61",
   "metadata": {},
   "outputs": [
    {
     "name": "stdout",
     "output_type": "stream",
     "text": [
      "HelloShin\n",
      "Hello Shin\n",
      "Hello Shin\n"
     ]
    }
   ],
   "source": [
    "word1 = \"Hello\"\n",
    "word2 = \"Shin\"\n",
    "word3 = \"the\"\n",
    "word4 = \"chinese\"\n",
    "word5 = \"boy\"\n",
    "\n",
    "print(word1 + word2)\n",
    "print(word1 + \" \" + word2)\n",
    "print(word1, word2)"
   ]
  },
  {
   "cell_type": "markdown",
   "id": "11a8fb86",
   "metadata": {},
   "source": [
    "Format String"
   ]
  },
  {
   "cell_type": "code",
   "execution_count": 20,
   "id": "36193a55",
   "metadata": {},
   "outputs": [
    {
     "name": "stdout",
     "output_type": "stream",
     "text": [
      "Hello\n",
      "Hello Shin the chinese boy\n"
     ]
    }
   ],
   "source": [
    "sentence = f\"{word1}\"\n",
    "print(sentence)\n",
    "\n",
    "# Hello Shin the chinese boy\n",
    "print(f\"{word1} {word2} {word3} {word4} {word5}\")"
   ]
  },
  {
   "cell_type": "code",
   "execution_count": 22,
   "id": "2b49164b",
   "metadata": {},
   "outputs": [
    {
     "data": {
      "text/plain": [
       "'Hello Shin the chinese boy'"
      ]
     },
     "execution_count": 22,
     "metadata": {},
     "output_type": "execute_result"
    }
   ],
   "source": [
    "# Advance\n",
    "\n",
    "\" \".join([word1, word2, word3, word4, word5])"
   ]
  },
  {
   "cell_type": "markdown",
   "id": "26f2ef20",
   "metadata": {},
   "source": [
    "Multiply String"
   ]
  },
  {
   "cell_type": "code",
   "execution_count": 29,
   "id": "85f8416e",
   "metadata": {},
   "outputs": [
    {
     "name": "stdout",
     "output_type": "stream",
     "text": [
      "CheetahCheetahCheetah\n",
      "CheetahCheetahCheetah\n",
      "\n",
      "\n"
     ]
    }
   ],
   "source": [
    "name = \"Cheetah\"\n",
    "print(name * 3)\n",
    "print(name * int(\"3\"))\n",
    "print(name * 0)\n",
    "print(name * -2)\n",
    "# print(name * \"3\")\n",
    "# print(name * 1.0) - can't multiply sequence by non-int of type 'float'"
   ]
  },
  {
   "cell_type": "code",
   "execution_count": null,
   "id": "33372b96",
   "metadata": {},
   "outputs": [
    {
     "name": "stdout",
     "output_type": "stream",
     "text": [
      "7\n",
      "8\n"
     ]
    }
   ],
   "source": [
    "name = \"Cheetah\"\n",
    "print(len(name))\n",
    "\n",
    "name = \"Cheetah \"\n",
    "print(len(name))\n",
    "\n"
   ]
  },
  {
   "cell_type": "markdown",
   "id": "ba6b8b81",
   "metadata": {},
   "source": [
    "Indexing"
   ]
  },
  {
   "cell_type": "code",
   "execution_count": null,
   "id": "f9403144",
   "metadata": {},
   "outputs": [
    {
     "data": {
      "text/plain": [
       "'C'"
      ]
     },
     "execution_count": 38,
     "metadata": {},
     "output_type": "execute_result"
    }
   ],
   "source": [
    "sentence = \"Bangkok, Thailand: 100C\"\n",
    "# sentence[23] string index out of range\n",
    "sentence[-1]\n",
    "sentence[-23]\n",
    "sentence[len(sentence)-1]\n",
    "# sentence[-24]"
   ]
  },
  {
   "cell_type": "markdown",
   "id": "31111fec",
   "metadata": {},
   "source": [
    "Slicing"
   ]
  },
  {
   "cell_type": "code",
   "execution_count": 51,
   "id": "4792edc4",
   "metadata": {},
   "outputs": [
    {
     "name": "stdout",
     "output_type": "stream",
     "text": [
      " oeb\n",
      "onbe\n",
      "I love bankok!\n",
      "Ilv akk\n",
      "!koknab evol I\n",
      "I love\n",
      "kok!\n"
     ]
    }
   ],
   "source": [
    "# start:stop:step\n",
    "sentence = \"I love bankok!\"\n",
    "sentence[0::1]\n",
    "sentence[-1::-1]\n",
    "sentence[-1::]\n",
    "\n",
    "sentence[:6:1] # I love = range(0, 6)\n",
    "sentence[7:13:1] # bangkok = range(7, 13)\n",
    "sentence[-7:-1:1] # bangkok = range(-7, -1)\n",
    "\n",
    "print(sentence[1:8:2]) # \" oeb\"\n",
    "print(sentence[-3:-10:-2]) # \"onbe\"\n",
    "\n",
    "sentence[4::1]\n",
    "print(sentence[:])\n",
    "print(sentence[::2])\n",
    "print(sentence[::-1])\n",
    "print(sentence[:6])\n",
    "print(sentence[-4:])"
   ]
  },
  {
   "cell_type": "markdown",
   "id": "2cd19370",
   "metadata": {},
   "source": [
    "## Methods"
   ]
  },
  {
   "cell_type": "code",
   "execution_count": null,
   "id": "8ef26bee",
   "metadata": {},
   "outputs": [
    {
     "name": "stdout",
     "output_type": "stream",
     "text": [
      "2\n",
      "2\n",
      "1\n",
      "Poopat lovos Shinshin\n",
      "Peepat loves x\n",
      "PeepatlovesShinshin\n",
      "PEEPAT LOVES SHINSHIN\n",
      "peepat loves shinshin\n",
      "Peepat loves shinshin\n",
      "['Peepat', 'loves', 'Shinshin']\n",
      "['Peepat', 'lov', 'es', 'Arm']\n",
      "True\n"
     ]
    },
    {
     "data": {
      "text/plain": [
       "'Peepat\\nlov es\\nArm\\n'"
      ]
     },
     "execution_count": 93,
     "metadata": {},
     "output_type": "execute_result"
    }
   ],
   "source": [
    "# .count\n",
    "word = \"Peepat loves Shinshin\"\n",
    "word1 = \"\"\"Peepat\n",
    "lov es\n",
    "Arm\n",
    "\"\"\"\n",
    "print(word.count(\"in\"))\n",
    "print(word.count(\" \"))\n",
    "print(word.count(\"Shin\"))\n",
    "\n",
    "# .replace\n",
    "print(word.replace(\"e\", \"o\"))\n",
    "print(word.replace(\"Shinshin\", \"x\"))\n",
    "print(word.replace(\" \", \"\"))\n",
    "\n",
    "# .upper\n",
    "print(word.upper())\n",
    "\n",
    "# .lower\n",
    "print(word.lower())\n",
    "\n",
    "# .capitalize\n",
    "print(word.capitalize())\n",
    "\n",
    "# .split\n",
    "print(word.split()) # list\n",
    "print(word1.split()) # list\n",
    "\n",
    "# .isalpha\n",
    "word = \"คย\"\n",
    "print(word.isalpha())\n",
    "\n",
    "# .strip\n",
    "word1.strip(\"\")\n"
   ]
  }
 ],
 "metadata": {
  "kernelspec": {
   "display_name": "Python 3",
   "language": "python",
   "name": "python3"
  },
  "language_info": {
   "codemirror_mode": {
    "name": "ipython",
    "version": 3
   },
   "file_extension": ".py",
   "mimetype": "text/x-python",
   "name": "python",
   "nbconvert_exporter": "python",
   "pygments_lexer": "ipython3",
   "version": "3.13.7"
  }
 },
 "nbformat": 4,
 "nbformat_minor": 5
}
