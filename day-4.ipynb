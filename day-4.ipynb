{
 "cells": [
  {
   "cell_type": "code",
   "execution_count": 18,
   "id": "a1eaf4a0",
   "metadata": {},
   "outputs": [
    {
     "data": {
      "text/plain": [
       "12"
      ]
     },
     "execution_count": 18,
     "metadata": {},
     "output_type": "execute_result"
    }
   ],
   "source": [
    "abs(-12)"
   ]
  },
  {
   "cell_type": "code",
   "execution_count": 7,
   "id": "fc9280e1",
   "metadata": {},
   "outputs": [
    {
     "data": {
      "text/plain": [
       "(45, 3)"
      ]
     },
     "execution_count": 7,
     "metadata": {},
     "output_type": "execute_result"
    }
   ],
   "source": [
    "max(24, 4, 45, 5), min(23, 43, 67, 3, 344)"
   ]
  },
  {
   "cell_type": "code",
   "execution_count": null,
   "id": "fc5425f9",
   "metadata": {},
   "outputs": [
    {
     "data": {
      "text/plain": [
       "(3, 2)"
      ]
     },
     "execution_count": 3,
     "metadata": {},
     "output_type": "execute_result"
    }
   ],
   "source": [
    "round(4.5), round(2.6), int(2.6)"
   ]
  },
  {
   "cell_type": "code",
   "execution_count": null,
   "id": "7f4eb538",
   "metadata": {},
   "outputs": [
    {
     "data": {
      "text/plain": [
       "(2, 3)"
      ]
     },
     "execution_count": 5,
     "metadata": {},
     "output_type": "execute_result"
    }
   ],
   "source": [
    "# if _ <= 2.5 = 2\n",
    "# elif _ > 2.5 = 3\n",
    "round(2.5), round(2.50001)"
   ]
  },
  {
   "cell_type": "code",
   "execution_count": 11,
   "id": "c9b556f9",
   "metadata": {},
   "outputs": [
    {
     "data": {
      "text/plain": [
       "(2.5, -2.3456)"
      ]
     },
     "execution_count": 11,
     "metadata": {},
     "output_type": "execute_result"
    }
   ],
   "source": [
    "round(2.45, 1), round(-2.3455634, 4)"
   ]
  },
  {
   "cell_type": "code",
   "execution_count": 17,
   "id": "e56741c0",
   "metadata": {},
   "outputs": [
    {
     "data": {
      "text/plain": [
       "(1000, 990, 986, 0)"
      ]
     },
     "execution_count": 17,
     "metadata": {},
     "output_type": "execute_result"
    }
   ],
   "source": [
    "round(986, -2), round(986, -1), round(986, 0), round(986, -10)"
   ]
  },
  {
   "cell_type": "markdown",
   "id": "3e6164ec",
   "metadata": {},
   "source": [
    "### Conditionals"
   ]
  },
  {
   "cell_type": "code",
   "execution_count": null,
   "id": "2a488e12",
   "metadata": {},
   "outputs": [],
   "source": [
    "# if elif else\n",
    "\n",
    "\"\"\"\n",
    "if CONDITION(S):\n",
    "    DO_SOMETHING\n",
    "\"\"\""
   ]
  },
  {
   "cell_type": "code",
   "execution_count": null,
   "id": "661324ae",
   "metadata": {},
   "outputs": [
    {
     "name": "stdout",
     "output_type": "stream",
     "text": [
      "Go back home and eat instant noodle!\n",
      "Drink water please.\n"
     ]
    }
   ],
   "source": [
    "# EX_1\n",
    "\n",
    "money = float(input())\n",
    "age = float(input())\n",
    "\n",
    "if money > 3000:\n",
    "    print(\"Michellin star restaurant!\")\n",
    "    if age >= 20:\n",
    "        print(\"CP!\")\n",
    "elif money > 700:\n",
    "    print(\"Harbour Paradise Buuffet\")\n",
    "    if age >= 20:\n",
    "        print(\"Wine\")\n",
    "elif money > 300:\n",
    "    print(\"TeeYai Buffet\")\n",
    "    if age >= 20:\n",
    "        print(\"Bea!\")\n",
    "else:\n",
    "    print(\"Go back home and eat instant noodle!\")\n",
    "    print(\"Drink water please.\")"
   ]
  },
  {
   "cell_type": "code",
   "execution_count": null,
   "id": "8718ddea",
   "metadata": {},
   "outputs": [],
   "source": [
    "# Prime Number\n",
    "\n",
    "num = int(input())\n",
    "is_prime = True\n",
    "\n",
    "if num <= 1:\n",
    "    is_prime = False\n",
    "elif num == 2:\n",
    "    is_prime = True\n",
    "else:\n",
    "    for i in range(2, num):\n",
    "        if num % i == 0:\n",
    "            is_prime = False\n",
    "            break\n",
    "        i += 1\n",
    "\n",
    "if is_prime:\n",
    "    print(num, \"is a prime number.\")\n",
    "else:\n",
    "    print(num, \"is not a prime number.\")\n"
   ]
  },
  {
   "cell_type": "code",
   "execution_count": null,
   "id": "d046253c",
   "metadata": {},
   "outputs": [],
   "source": [
    "# Fibonacci\n",
    "\n",
    "term = int(input())\n",
    "first_num = 0\n",
    "second_num = 1\n",
    "\n",
    "if term == 1:\n",
    "    print(first_num)\n",
    "else:\n",
    "    for i in range(term):\n",
    "        print(first_num)\n",
    "        n3 = second_num + first_num\n",
    "\n",
    "        first_num = second_num\n",
    "        second_num = n3\n"
   ]
  }
 ],
 "metadata": {
  "kernelspec": {
   "display_name": "Python 3",
   "language": "python",
   "name": "python3"
  },
  "language_info": {
   "codemirror_mode": {
    "name": "ipython",
    "version": 3
   },
   "file_extension": ".py",
   "mimetype": "text/x-python",
   "name": "python",
   "nbconvert_exporter": "python",
   "pygments_lexer": "ipython3",
   "version": "3.13.7"
  }
 },
 "nbformat": 4,
 "nbformat_minor": 5
}
