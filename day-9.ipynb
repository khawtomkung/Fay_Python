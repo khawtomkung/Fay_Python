{
 "cells": [
  {
   "cell_type": "code",
   "execution_count": 21,
   "id": "cb974b57",
   "metadata": {},
   "outputs": [
    {
     "name": "stdout",
     "output_type": "stream",
     "text": [
      "83\n"
     ]
    }
   ],
   "source": [
    "numbers = []\n",
    "\n",
    "for number in range(1, 101):\n",
    "    numbers.append(number)\n",
    "\n",
    "for number in numbers:\n",
    "    if number % 3 == 0 and number % 2 != 0:\n",
    "        numbers.remove(number)\n",
    "\n",
    "print(len(numbers))\n"
   ]
  },
  {
   "cell_type": "code",
   "execution_count": null,
   "id": "2af20e3a",
   "metadata": {},
   "outputs": [
    {
     "name": "stdout",
     "output_type": "stream",
     "text": [
      "83\n"
     ]
    }
   ],
   "source": [
    "numbers = []\n",
    "\n",
    "for num in range(1, 101):\n",
    "    if num % 3 != 0 or num % 2 == 0:\n",
    "        numbers.append(num)\n",
    "\n",
    "print(len(numbers))\n"
   ]
  }
 ],
 "metadata": {
  "kernelspec": {
   "display_name": "Python 3",
   "language": "python",
   "name": "python3"
  },
  "language_info": {
   "codemirror_mode": {
    "name": "ipython",
    "version": 3
   },
   "file_extension": ".py",
   "mimetype": "text/x-python",
   "name": "python",
   "nbconvert_exporter": "python",
   "pygments_lexer": "ipython3",
   "version": "3.13.7"
  }
 },
 "nbformat": 4,
 "nbformat_minor": 5
}
